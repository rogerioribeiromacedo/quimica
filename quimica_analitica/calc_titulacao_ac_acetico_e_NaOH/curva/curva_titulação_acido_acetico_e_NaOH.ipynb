{
 "cells": [
  {
   "cell_type": "markdown",
   "id": "dd8c4aa3-432b-4008-89ae-466d5913732c",
   "metadata": {},
   "source": [
    "<h1 style=\"color: #5e9ca0; text-align: center;\">Química Analítica</h1>\n",
    "<h2 style=\"color: #2e6c80; text-align: center;\">Curva de titulação de Ácido Acético (ácido fraco) e NaOH (base forte)</h2></br>"
   ]
  },
  {
   "cell_type": "code",
   "execution_count": 39,
   "id": "4263b786-e9fd-4910-9822-0f54e46e1e6d",
   "metadata": {},
   "outputs": [],
   "source": [
    "import numpy as np\n",
    "import pandas as pd\n",
    "import matplotlib.pyplot as plt\n",
    "import seaborn as sns\n",
    "pd.options.display.float_format = '{:.10f}'.format\n",
    "\n",
    "# mostrando todas as colunas do dataframe\n",
    "pd.set_option('display.max_columns', None)\n",
    "# mostrando todas as linhas do dataframe\n",
    "pd.set_option('display.max_rows', 20)"
   ]
  },
  {
   "cell_type": "code",
   "execution_count": 40,
   "id": "f56f0d35-b959-4aaf-99d9-7ca4e300f3cb",
   "metadata": {},
   "outputs": [],
   "source": [
    "#\n",
    "# Dados iniciais\n",
    "#\n",
    "c_base = 0.1000 # concentração da base (NaOH)\n",
    "c_acido = 0.1000 # concentração do ácido acético\n",
    "v_acido = 0.05 # (50 mL) volume do ácido\n",
    "v_base_adicionada = 0.00 # controla a qtde de base adicionada"
   ]
  },
  {
   "cell_type": "code",
   "execution_count": 41,
   "id": "d4c47df4-136c-40eb-a2ea-70eb34c0576d",
   "metadata": {},
   "outputs": [
    {
     "data": {
      "text/html": [
       "<div>\n",
       "<style scoped>\n",
       "    .dataframe tbody tr th:only-of-type {\n",
       "        vertical-align: middle;\n",
       "    }\n",
       "\n",
       "    .dataframe tbody tr th {\n",
       "        vertical-align: top;\n",
       "    }\n",
       "\n",
       "    .dataframe thead th {\n",
       "        text-align: right;\n",
       "    }\n",
       "</style>\n",
       "<table border=\"1\" class=\"dataframe\">\n",
       "  <thead>\n",
       "    <tr style=\"text-align: right;\">\n",
       "      <th></th>\n",
       "      <th>Acidos</th>\n",
       "      <th>Ka</th>\n",
       "    </tr>\n",
       "  </thead>\n",
       "  <tbody>\n",
       "    <tr>\n",
       "      <th>0</th>\n",
       "      <td>CH3COOH</td>\n",
       "      <td>0.0000175000</td>\n",
       "    </tr>\n",
       "  </tbody>\n",
       "</table>\n",
       "</div>"
      ],
      "text/plain": [
       "    Acidos           Ka\n",
       "0  CH3COOH 0.0000175000"
      ]
     },
     "execution_count": 41,
     "metadata": {},
     "output_type": "execute_result"
    }
   ],
   "source": [
    "#\n",
    "# Dataframe com lista de acidos fracos\n",
    "#\n",
    "acidos_fracos = {\"Acidos\" : \n",
    "                 [\"CH3COOH\"],\n",
    "                \"Ka\" : [1.75*10**-5]}\n",
    "df_acidos_fracos = pd.DataFrame(acidos_fracos)\n",
    "df_acidos_fracos"
   ]
  },
  {
   "cell_type": "markdown",
   "id": "9240e534-bfcb-4bab-bb21-b79efd355ef0",
   "metadata": {},
   "source": [
    "<h2 style=\"color: #2e6c80; text-align: center;\">Gerando Dados</h2></br>"
   ]
  },
  {
   "cell_type": "code",
   "execution_count": 42,
   "id": "9bc2c6bf-6af8-4601-b15c-f0557fcd593e",
   "metadata": {},
   "outputs": [],
   "source": [
    "# df = df_acidos_fracos.loc[(df_acidos_fracos[\"Acidos\"] == \"CH3COOH\") | (df_acidos_fracos[\"Acidos\"] == \"H3PO43\")]\n",
    "\n",
    "resultados = []\n",
    "for index, row in df_acidos_fracos.iterrows():\n",
    "    acido = row['Acidos']\n",
    "    ka = row['Ka']\n",
    "    pH = 0\n",
    "    concentracao_H30 = 0\n",
    "    # Considerando que uma gota teria aproximadamente 0,05 mL\n",
    "    for volume_da_base_ad in np.arange(0, 0.1205, 0.00005): # volume em Litros\n",
    "        if volume_da_base_ad == 0:\n",
    "            # No ponto inicial (sem adição de NaOH)\n",
    "            concentracao_H3O = np.sqrt(ka * c_acido)\n",
    "            pH = -np.log10(concentracao_H3O)\n",
    "            \n",
    "            # adicionando resultado\n",
    "            resultados.append([acido, np.around(pH, 5), volume_da_base_ad])\n",
    "        else:\n",
    "            if volume_da_base_ad < 0.05:\n",
    "                # formação de uma solução tampão\n",
    "                # antes do ponto de equivalência\n",
    "                concentracao_sal = (c_base * volume_da_base_ad) / (v_acido + volume_da_base_ad)\n",
    "                concentracao_acido = ((c_acido * v_acido) - (c_base * volume_da_base_ad)) / (v_acido + volume_da_base_ad)\n",
    "                log_sal_acido = np.log10(concentracao_sal / concentracao_acido)\n",
    "                pka = -np.log10(ka)\n",
    "                pH = pka + log_sal_acido\n",
    "\n",
    "                # adicionando resultado\n",
    "                resultados.append([acido, np.around(pH, 5), volume_da_base_ad])\n",
    "            else:\n",
    "                if volume_da_base_ad == 0.05:\n",
    "                    # Estamos no ponto de equivalência (PE)\n",
    "                    # o pH é determinado pela hidrólise do sal formado\n",
    "                    concentracao_sal = (c_base * volume_da_base_ad) / (v_acido + volume_da_base_ad)\n",
    "                    kb =  (1.00 * 10**-14) / (ka)\n",
    "                    concentracao_OH = np.sqrt(kb * concentracao_sal)\n",
    "                    pOH = -np.log10(concentracao_OH)\n",
    "                    pH = 14.0000 - pOH\n",
    "\n",
    "                    # adicionando resultado\n",
    "                    resultados.append([acido, np.around(pH, 5), volume_da_base_ad])\n",
    "                else:\n",
    "                    # Excesso de NaOH (inibe a hidrólise do sal)\n",
    "                    concentracao_OH = ( (c_base * volume_da_base_ad) - (c_acido * v_acido) ) / (v_acido + volume_da_base_ad)\n",
    "                    pOH = -np.log10(concentracao_OH)\n",
    "                    pH = 14.0000 - pOH\n",
    "\n",
    "                    # adicionando resultado\n",
    "                    resultados.append([acido, np.around(pH, 5), volume_da_base_ad]) "
   ]
  },
  {
   "cell_type": "code",
   "execution_count": 43,
   "id": "9d0901c0-7e09-4c38-a970-ecedfa761ad4",
   "metadata": {
    "scrolled": true
   },
   "outputs": [],
   "source": [
    "# Dataframe de resultados\n",
    "df_resultados = pd.DataFrame(resultados, columns=[\"Acido\", \"pH\", \"Volume\"])"
   ]
  },
  {
   "cell_type": "code",
   "execution_count": 44,
   "id": "79057b06-e46b-4049-96c2-84997ffae3b4",
   "metadata": {},
   "outputs": [
    {
     "data": {
      "text/html": [
       "<div>\n",
       "<style scoped>\n",
       "    .dataframe tbody tr th:only-of-type {\n",
       "        vertical-align: middle;\n",
       "    }\n",
       "\n",
       "    .dataframe tbody tr th {\n",
       "        vertical-align: top;\n",
       "    }\n",
       "\n",
       "    .dataframe thead th {\n",
       "        text-align: right;\n",
       "    }\n",
       "</style>\n",
       "<table border=\"1\" class=\"dataframe\">\n",
       "  <thead>\n",
       "    <tr style=\"text-align: right;\">\n",
       "      <th></th>\n",
       "      <th>Acido</th>\n",
       "      <th>pH</th>\n",
       "      <th>Volume</th>\n",
       "    </tr>\n",
       "  </thead>\n",
       "  <tbody>\n",
       "    <tr>\n",
       "      <th>0</th>\n",
       "      <td>CH3COOH</td>\n",
       "      <td>2.8784800000</td>\n",
       "      <td>0.0000000000</td>\n",
       "    </tr>\n",
       "    <tr>\n",
       "      <th>1</th>\n",
       "      <td>CH3COOH</td>\n",
       "      <td>1.7574000000</td>\n",
       "      <td>0.0000500000</td>\n",
       "    </tr>\n",
       "    <tr>\n",
       "      <th>2</th>\n",
       "      <td>CH3COOH</td>\n",
       "      <td>2.0588600000</td>\n",
       "      <td>0.0001000000</td>\n",
       "    </tr>\n",
       "    <tr>\n",
       "      <th>3</th>\n",
       "      <td>CH3COOH</td>\n",
       "      <td>2.2353900000</td>\n",
       "      <td>0.0001500000</td>\n",
       "    </tr>\n",
       "    <tr>\n",
       "      <th>4</th>\n",
       "      <td>CH3COOH</td>\n",
       "      <td>2.3607600000</td>\n",
       "      <td>0.0002000000</td>\n",
       "    </tr>\n",
       "    <tr>\n",
       "      <th>...</th>\n",
       "      <td>...</td>\n",
       "      <td>...</td>\n",
       "      <td>...</td>\n",
       "    </tr>\n",
       "    <tr>\n",
       "      <th>2405</th>\n",
       "      <td>CH3COOH</td>\n",
       "      <td>12.6155600000</td>\n",
       "      <td>0.1202500000</td>\n",
       "    </tr>\n",
       "    <tr>\n",
       "      <th>2406</th>\n",
       "      <td>CH3COOH</td>\n",
       "      <td>12.6157400000</td>\n",
       "      <td>0.1203000000</td>\n",
       "    </tr>\n",
       "    <tr>\n",
       "      <th>2407</th>\n",
       "      <td>CH3COOH</td>\n",
       "      <td>12.6159200000</td>\n",
       "      <td>0.1203500000</td>\n",
       "    </tr>\n",
       "    <tr>\n",
       "      <th>2408</th>\n",
       "      <td>CH3COOH</td>\n",
       "      <td>12.6161000000</td>\n",
       "      <td>0.1204000000</td>\n",
       "    </tr>\n",
       "    <tr>\n",
       "      <th>2409</th>\n",
       "      <td>CH3COOH</td>\n",
       "      <td>12.6162800000</td>\n",
       "      <td>0.1204500000</td>\n",
       "    </tr>\n",
       "  </tbody>\n",
       "</table>\n",
       "<p>2410 rows × 3 columns</p>\n",
       "</div>"
      ],
      "text/plain": [
       "        Acido            pH       Volume\n",
       "0     CH3COOH  2.8784800000 0.0000000000\n",
       "1     CH3COOH  1.7574000000 0.0000500000\n",
       "2     CH3COOH  2.0588600000 0.0001000000\n",
       "3     CH3COOH  2.2353900000 0.0001500000\n",
       "4     CH3COOH  2.3607600000 0.0002000000\n",
       "...       ...           ...          ...\n",
       "2405  CH3COOH 12.6155600000 0.1202500000\n",
       "2406  CH3COOH 12.6157400000 0.1203000000\n",
       "2407  CH3COOH 12.6159200000 0.1203500000\n",
       "2408  CH3COOH 12.6161000000 0.1204000000\n",
       "2409  CH3COOH 12.6162800000 0.1204500000\n",
       "\n",
       "[2410 rows x 3 columns]"
      ]
     },
     "execution_count": 44,
     "metadata": {},
     "output_type": "execute_result"
    }
   ],
   "source": [
    "df_resultados.loc[(df_resultados[\"Acido\"] == \"CH3COOH\")]"
   ]
  },
  {
   "cell_type": "code",
   "execution_count": 45,
   "id": "364abd4f-1d3e-40a9-ad66-81f56baea445",
   "metadata": {},
   "outputs": [
    {
     "data": {
      "text/html": [
       "<div>\n",
       "<style scoped>\n",
       "    .dataframe tbody tr th:only-of-type {\n",
       "        vertical-align: middle;\n",
       "    }\n",
       "\n",
       "    .dataframe tbody tr th {\n",
       "        vertical-align: top;\n",
       "    }\n",
       "\n",
       "    .dataframe thead th {\n",
       "        text-align: right;\n",
       "    }\n",
       "</style>\n",
       "<table border=\"1\" class=\"dataframe\">\n",
       "  <thead>\n",
       "    <tr style=\"text-align: right;\">\n",
       "      <th></th>\n",
       "      <th>Acido</th>\n",
       "      <th>pH</th>\n",
       "      <th>Volume</th>\n",
       "    </tr>\n",
       "  </thead>\n",
       "  <tbody>\n",
       "    <tr>\n",
       "      <th>1000</th>\n",
       "      <td>CH3COOH</td>\n",
       "      <td>8.7279700000</td>\n",
       "      <td>0.0500000000</td>\n",
       "    </tr>\n",
       "  </tbody>\n",
       "</table>\n",
       "</div>"
      ],
      "text/plain": [
       "        Acido           pH       Volume\n",
       "1000  CH3COOH 8.7279700000 0.0500000000"
      ]
     },
     "execution_count": 45,
     "metadata": {},
     "output_type": "execute_result"
    }
   ],
   "source": [
    "df_resultados.loc[(df_resultados[\"Acido\"] == \"CH3COOH\") & (df_resultados[\"Volume\"] == 0.05)]"
   ]
  },
  {
   "cell_type": "code",
   "execution_count": 46,
   "id": "9834eee4-c155-4d59-b508-4cc61c787400",
   "metadata": {},
   "outputs": [
    {
     "data": {
      "text/plain": [
       "array([ 0.   ,  1.   ,  2.   ,  3.   ,  4.   ,  5.   ,  6.   ,  7.   ,\n",
       "        8.   ,  8.728,  9.   , 10.   , 11.   , 12.   , 13.   ])"
      ]
     },
     "execution_count": 46,
     "metadata": {},
     "output_type": "execute_result"
    }
   ],
   "source": [
    "lista_y = np.arange(0, 14, 1)\n",
    "lista_y = np.append(lista_y, [8.728]) \n",
    "lista_y.sort()\n",
    "lista_y"
   ]
  },
  {
   "cell_type": "markdown",
   "id": "c6f743be-fece-417c-8d8f-a0415347fb7c",
   "metadata": {},
   "source": [
    "<h1 style=\"color: #2e6c80; text-align: center;\">Gráfico</h1></br>"
   ]
  },
  {
   "cell_type": "markdown",
   "id": "3e6a4175-8fed-4c73-b05d-cd4b3c6969e4",
   "metadata": {},
   "source": [
    "<h2>Ácido acético -  $CH_{3}COOH$</h2>"
   ]
  },
  {
   "cell_type": "code",
   "execution_count": 47,
   "id": "8fd4f453-6772-4607-b15d-cca7c9993fb9",
   "metadata": {},
   "outputs": [
    {
     "data": {
      "image/png": "[encoded data removed]",
      "text/plain": [
       "<Figure size 1600x1000 with 1 Axes>"
      ]
     },
     "metadata": {},
     "output_type": "display_data"
    }
   ],
   "source": [
    "fig, ax = plt.subplots(1, 1, figsize=(16, 10))\n",
    "\n",
    "df_dados = df_resultados.loc[(df_resultados[\"Acido\"] == \"CH3COOH\")]\n",
    "sns.lineplot(data = df_dados, \n",
    "             x = \"Volume\",\n",
    "             y = \"pH\",\n",
    "             hue=\"Acido\", \n",
    "             palette=\"bright\",\n",
    "             linewidth = 2)\n",
    "\n",
    "# Spines -> as linhas dos eixos\n",
    "for axis in ['bottom', 'left', 'top', 'right']:\n",
    "    ax.spines[axis].set_linewidth(2.5)\n",
    "    ax.spines[axis].set_color('0.2')\n",
    "\n",
    "# Ticks\n",
    "ax.xaxis.set_ticks_position('bottom')\n",
    "ax.xaxis.set_ticks(np.arange(0, 0.125, 0.01))\n",
    "\n",
    "ax.yaxis.set_ticks_position('left')\n",
    "lista_y = np.arange(0, 14, 1)\n",
    "lista_y = np.append(lista_y, [8.728])\n",
    "lista_y.sort()\n",
    "ax.yaxis.set_ticks(lista_y)\n",
    "\n",
    "# Configurando ticks para os valores\n",
    "# Tick -> linha nos pontos dos eixos\n",
    "ax.tick_params(which = 'major',\n",
    "               length = 7,\n",
    "               grid_alpha = 0.5,\n",
    "               width = 1.5)\n",
    "\n",
    "# definição geral dos ticks do eixo y\n",
    "plt.yticks(size = 10, weight = 'bold', color = '0.2')\n",
    "\n",
    "ax.set_ylabel('pH', \n",
    "             fontsize = 18, weight = 'bold', \n",
    "             color = '0.2', labelpad = 20)\n",
    "ax.set_xlabel('Volume de NaOH (L)', \n",
    "              fontsize = 18, weight = 'bold', \n",
    "              color = '0.2', labelpad = 20)\n",
    "\n",
    "# Título do gráfico\n",
    "ax.set_title(\"Curva de titulação \\n \\n Ácido acético ($CH_{3}COOH$) e NaOH\", \n",
    "             fontweight = 'bold', \n",
    "             fontsize = 22, \n",
    "             pad = 15)\n",
    "\n",
    "sns.move_legend(ax, \"upper left\", \n",
    "                bbox_to_anchor=(1, 1),\n",
    "                fancybox = True,\n",
    "                shadow = True,\n",
    "                fontsize = 14,\n",
    "                title = \"Ácido\",\n",
    "                title_fontsize = 15,\n",
    "                title_fontweight = 'bold',\n",
    "                labelspacing = 1)\n",
    "\n",
    "#plt.axvline(0, color='r')\n",
    "plt.axhline(8.728, color='r', ls=\"--\", alpha=0.5)\n",
    "plt.axvline(0.050, color='r', ls=\"--\", alpha=0.5)\n",
    "\n",
    "texto = \"P.E.\"\n",
    "ax.text(0.052, 9.0, texto, color='red', horizontalalignment='center', verticalalignment='center', fontweight='bold')\n",
    "\n",
    "# Salvando gráfico\n",
    "plt.savefig('curvas_de_titulacao_ac_acetico_e_hidroxido_de_sodio.png', bbox_inches = 'tight', dpi =250, facecolor = ax.get_facecolor())\n",
    "\n",
    "# Exibindo o gráfico\n",
    "plt.show()"
   ]
  },
  {
   "cell_type": "code",
   "execution_count": null,
   "id": "5ce22cca-b537-486f-af8e-214b5cb816cd",
   "metadata": {},
   "outputs": [],
   "source": []
  }
 ],
 "metadata": {
  "kernelspec": {
   "display_name": "Python 3 (ipykernel)",
   "language": "python",
   "name": "python3"
  },
  "language_info": {
   "codemirror_mode": {
    "name": "ipython",
    "version": 3
   },
   "file_extension": ".py",
   "mimetype": "text/x-python",
   "name": "python",
   "nbconvert_exporter": "python",
   "pygments_lexer": "ipython3",
   "version": "3.12.2"
  }
 },
 "nbformat": 4,
 "nbformat_minor": 5
}
