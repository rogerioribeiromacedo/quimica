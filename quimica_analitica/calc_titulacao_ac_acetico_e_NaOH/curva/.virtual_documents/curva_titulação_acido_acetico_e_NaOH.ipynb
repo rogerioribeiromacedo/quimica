


import numpy as np
import pandas as pd
import matplotlib.pyplot as plt
import seaborn as sns
pd.options.display.float_format = '{:.10f}'.format

# mostrando todas as colunas do dataframe
pd.set_option('display.max_columns', None)
# mostrando todas as linhas do dataframe
pd.set_option('display.max_rows', 20)


#
# Dados iniciais
#
c_base = 0.1000 # concentração da base (NaOH)
c_acido = 0.1000 # concentração do ácido acético
v_acido = 0.05 # (50 mL) volume do ácido
v_base_adicionada = 0.00 # controla a qtde de base adicionada


#
# Dataframe com lista de acidos fracos
#
acidos_fracos = {"Acidos" : 
                 ["CH3COOH"],
                "Ka" : [1.75*10**-5]}
df_acidos_fracos = pd.DataFrame(acidos_fracos)
df_acidos_fracos





# df = df_acidos_fracos.loc[(df_acidos_fracos["Acidos"] == "CH3COOH") | (df_acidos_fracos["Acidos"] == "H3PO43")]

resultados = []
for index, row in df_acidos_fracos.iterrows():
    acido = row['Acidos']
    ka = row['Ka']
    pH = 0
    concentracao_H30 = 0
    # Considerando que uma gota teria aproximadamente 0,05 mL
    for volume_da_base_ad in np.arange(0, 0.1205, 0.00005): # volume em Litros
        if volume_da_base_ad == 0:
            # No ponto inicial (sem adição de NaOH)
            concentracao_H3O = np.sqrt(ka * c_acido)
            pH = -np.log10(concentracao_H3O)
            
            # adicionando resultado
            resultados.append([acido, np.around(pH, 5), volume_da_base_ad])
        else:
            if volume_da_base_ad < 0.05:
                # formação de uma solução tampão
                # antes do ponto de equivalência
                concentracao_sal = (c_base * volume_da_base_ad) / (v_acido + volume_da_base_ad)
                concentracao_acido = ((c_acido * v_acido) - (c_base * volume_da_base_ad)) / (v_acido + volume_da_base_ad)
                log_sal_acido = np.log10(concentracao_sal / concentracao_acido)
                pka = -np.log10(ka)
                pH = pka + log_sal_acido

                # adicionando resultado
                resultados.append([acido, np.around(pH, 5), volume_da_base_ad])
            else:
                if volume_da_base_ad == 0.05:
                    # Estamos no ponto de equivalência (PE)
                    # o pH é determinado pela hidrólise do sal formado
                    concentracao_sal = (c_base * volume_da_base_ad) / (v_acido + volume_da_base_ad)
                    kb =  (1.00 * 10**-14) / (ka)
                    concentracao_OH = np.sqrt(kb * concentracao_sal)
                    pOH = -np.log10(concentracao_OH)
                    pH = 14.0000 - pOH

                    # adicionando resultado
                    resultados.append([acido, np.around(pH, 5), volume_da_base_ad])
                else:
                    # Excesso de NaOH (inibe a hidrólise do sal)
                    concentracao_OH = ( (c_base * volume_da_base_ad) - (c_acido * v_acido) ) / (v_acido + volume_da_base_ad)
                    pOH = -np.log10(concentracao_OH)
                    pH = 14.0000 - pOH

                    # adicionando resultado
                    resultados.append([acido, np.around(pH, 5), volume_da_base_ad]) 


# Dataframe de resultados
df_resultados = pd.DataFrame(resultados, columns=["Acido", "pH", "Volume"])


df_resultados.loc[(df_resultados["Acido"] == "CH3COOH")]


df_resultados.loc[(df_resultados["Acido"] == "CH3COOH") & (df_resultados["Volume"] == 0.05)]


lista_y = np.arange(0, 14, 1)
lista_y = np.append(lista_y, [8.728]) 
lista_y.sort()
lista_y








fig, ax = plt.subplots(1, 1, figsize=(16, 10))

df_dados = df_resultados.loc[(df_resultados["Acido"] == "CH3COOH")]
sns.lineplot(data = df_dados, 
             x = "Volume",
             y = "pH",
             hue="Acido", 
             palette="bright",
             linewidth = 2)

# Spines -> as linhas dos eixos
for axis in ['bottom', 'left', 'top', 'right']:
    ax.spines[axis].set_linewidth(2.5)
    ax.spines[axis].set_color('0.2')

# Ticks
ax.xaxis.set_ticks_position('bottom')
ax.xaxis.set_ticks(np.arange(0, 0.125, 0.01))

ax.yaxis.set_ticks_position('left')
lista_y = np.arange(0, 14, 1)
lista_y = np.append(lista_y, [8.728])
lista_y.sort()
ax.yaxis.set_ticks(lista_y)

# Configurando ticks para os valores
# Tick -> linha nos pontos dos eixos
ax.tick_params(which = 'major',
               length = 7,
               grid_alpha = 0.5,
               width = 1.5)

# definição geral dos ticks do eixo y
plt.yticks(size = 10, weight = 'bold', color = '0.2')

ax.set_ylabel('pH', 
             fontsize = 18, weight = 'bold', 
             color = '0.2', labelpad = 20)
ax.set_xlabel('Volume de NaOH (L)', 
              fontsize = 18, weight = 'bold', 
              color = '0.2', labelpad = 20)

# Título do gráfico
ax.set_title("Curva de titulação \n \n Ácido acético ($CH_{3}COOH$) e NaOH", 
             fontweight = 'bold', 
             fontsize = 22, 
             pad = 15)

sns.move_legend(ax, "upper left", 
                bbox_to_anchor=(1, 1),
                fancybox = True,
                shadow = True,
                fontsize = 14,
                title = "Ácido",
                title_fontsize = 15,
                title_fontweight = 'bold',
                labelspacing = 1)

#plt.axvline(0, color='r')
plt.axhline(8.728, color='r', ls="--", alpha=0.5)
plt.axvline(0.050, color='r', ls="--", alpha=0.5)

texto = "P.E."
ax.text(0.052, 9.0, texto, color='red', horizontalalignment='center', verticalalignment='center', fontweight='bold')

# Salvando gráfico
plt.savefig('curvas_de_titulacao_ac_acetico_e_hidroxido_de_sodio.png', bbox_inches = 'tight', dpi =250, facecolor = ax.get_facecolor())

# Exibindo o gráfico
plt.show()



