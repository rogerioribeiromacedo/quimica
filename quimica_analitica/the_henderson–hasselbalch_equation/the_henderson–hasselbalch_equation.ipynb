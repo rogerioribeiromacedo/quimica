{
 "cells": [
  {
   "cell_type": "markdown",
   "id": "ee781897-cd35-43ae-a86e-20d960c3ff96",
   "metadata": {},
   "source": [
    "<h1 style=\"color: #5e9ca0;\">The Henderson–Hasselbalch Equation: <span style=\"color: #2e6c80;\">Its History and Limitations</span></h1>\n",
    "\n",
    "Construção dos dados vistos nas tabelas do artigo. E de acordo com o arquivo, a equação 3 produz valores exatos de pH, enquanto que a equação 2 produziria valores aproximados.\n",
    "\n",
    "Ainda de acordo com o artigo, a equação 1 e 2 é a lei de ação das massas aplicadas na ionização da água e na dissociação do ácido.\n",
    " \n",
    "Equações usadas:\n",
    "\n",
    "1. $[H^{+}][OH^{-}] = 10^{-14}$\n",
    "\n",
    "2. $[H^{+}] = Ka \\cdot \\frac{[HA]}{[A^{-}]}$\n",
    "\n",
    "3. $[HA] + [A^{-}] = \\frac{(n_{A} + n_{B})}{V} \\rightarrow [A^{-}] = \\frac{(n_{A} + n_{B})}{V} - {HA}$\n",
    "\n",
    "4. $[H^{+}] + \\frac{n_{B}}{V} + [A^{-} + [OH^{-}]]$"
   ]
  },
  {
   "cell_type": "markdown",
   "id": "209a7df7-3ca9-4163-a644-f0eefeac1b56",
   "metadata": {},
   "source": [
    "<h1 style=\"color: #5e9ca0;\">Importando bibliotecas</h1>"
   ]
  },
  {
   "cell_type": "code",
   "execution_count": 1,
   "id": "7488b97a-c181-485a-aaf6-69fa3710638b",
   "metadata": {},
   "outputs": [],
   "source": [
    "import numpy as np\n",
    "import matplotlib.pyplot as plt\n",
    "import pandas as pd"
   ]
  },
  {
   "cell_type": "markdown",
   "id": "4e39c2ae-ef25-4b8c-833d-64e961012589",
   "metadata": {},
   "source": [
    "<h2 style=\"color: #5e9ca0;\"><b>Tabela 1:</b> Titulação de 100 mL de 0,10 M de ácido fraco com 0,10 M de NaOH</h2>"
   ]
  },
  {
   "cell_type": "code",
   "execution_count": 33,
   "id": "6c428d07-ec55-401d-bbf6-59512d290f1b",
   "metadata": {},
   "outputs": [
    {
     "name": "stdout",
     "output_type": "stream",
     "text": [
      "volume: 10, pka: 3, eq_2: 1.145E+01, eq_3: 0.000E+00\n",
      "volume: 10, pka: 5, eq_2: 1.145E+01, eq_3: 0.000E+00\n",
      "volume: 10, pka: 7, eq_2: 1.145E+01, eq_3: 0.000E+00\n",
      "volume: 10, pka: 9, eq_2: 1.145E+01, eq_3: 0.000E+00\n",
      "volume: 10, pka: 11, eq_2: 1.145E+01, eq_3: 0.000E+00\n",
      "volume: 20, pka: 3, eq_2: 1.145E+01, eq_3: 0.000E+00\n",
      "volume: 20, pka: 5, eq_2: 1.145E+01, eq_3: 0.000E+00\n",
      "volume: 20, pka: 7, eq_2: 1.145E+01, eq_3: 0.000E+00\n",
      "volume: 20, pka: 9, eq_2: 1.145E+01, eq_3: 0.000E+00\n",
      "volume: 20, pka: 11, eq_2: 1.145E+01, eq_3: 0.000E+00\n",
      "volume: 30, pka: 3, eq_2: 1.145E+01, eq_3: 0.000E+00\n",
      "volume: 30, pka: 5, eq_2: 1.145E+01, eq_3: 0.000E+00\n",
      "volume: 30, pka: 7, eq_2: 1.145E+01, eq_3: 0.000E+00\n",
      "volume: 30, pka: 9, eq_2: 1.145E+01, eq_3: 0.000E+00\n",
      "volume: 30, pka: 11, eq_2: 1.145E+01, eq_3: 0.000E+00\n",
      "volume: 40, pka: 3, eq_2: 1.145E+01, eq_3: 0.000E+00\n",
      "volume: 40, pka: 5, eq_2: 1.145E+01, eq_3: 0.000E+00\n",
      "volume: 40, pka: 7, eq_2: 1.145E+01, eq_3: 0.000E+00\n",
      "volume: 40, pka: 9, eq_2: 1.145E+01, eq_3: 0.000E+00\n",
      "volume: 40, pka: 11, eq_2: 1.145E+01, eq_3: 0.000E+00\n",
      "volume: 50, pka: 3, eq_2: 1.145E+01, eq_3: 0.000E+00\n",
      "volume: 50, pka: 5, eq_2: 1.145E+01, eq_3: 0.000E+00\n",
      "volume: 50, pka: 7, eq_2: 1.145E+01, eq_3: 0.000E+00\n",
      "volume: 50, pka: 9, eq_2: 1.145E+01, eq_3: 0.000E+00\n",
      "volume: 50, pka: 11, eq_2: 1.145E+01, eq_3: 0.000E+00\n",
      "volume: 60, pka: 3, eq_2: 1.145E+01, eq_3: 0.000E+00\n",
      "volume: 60, pka: 5, eq_2: 1.145E+01, eq_3: 0.000E+00\n",
      "volume: 60, pka: 7, eq_2: 1.145E+01, eq_3: 0.000E+00\n",
      "volume: 60, pka: 9, eq_2: 1.145E+01, eq_3: 0.000E+00\n",
      "volume: 60, pka: 11, eq_2: 1.145E+01, eq_3: 0.000E+00\n",
      "volume: 70, pka: 3, eq_2: 1.145E+01, eq_3: 0.000E+00\n",
      "volume: 70, pka: 5, eq_2: 1.145E+01, eq_3: 0.000E+00\n",
      "volume: 70, pka: 7, eq_2: 1.145E+01, eq_3: 0.000E+00\n",
      "volume: 70, pka: 9, eq_2: 1.145E+01, eq_3: 0.000E+00\n",
      "volume: 70, pka: 11, eq_2: 1.145E+01, eq_3: 0.000E+00\n",
      "volume: 80, pka: 3, eq_2: 1.145E+01, eq_3: 0.000E+00\n",
      "volume: 80, pka: 5, eq_2: 1.145E+01, eq_3: 0.000E+00\n",
      "volume: 80, pka: 7, eq_2: 1.145E+01, eq_3: 0.000E+00\n",
      "volume: 80, pka: 9, eq_2: 1.145E+01, eq_3: 0.000E+00\n",
      "volume: 80, pka: 11, eq_2: 1.145E+01, eq_3: 0.000E+00\n",
      "volume: 90, pka: 3, eq_2: 1.145E+01, eq_3: 0.000E+00\n",
      "volume: 90, pka: 5, eq_2: 1.145E+01, eq_3: 0.000E+00\n",
      "volume: 90, pka: 7, eq_2: 1.145E+01, eq_3: 0.000E+00\n",
      "volume: 90, pka: 9, eq_2: 1.145E+01, eq_3: 0.000E+00\n",
      "volume: 90, pka: 11, eq_2: 1.145E+01, eq_3: 0.000E+00\n"
     ]
    }
   ],
   "source": [
    "v_acido = 0.1  # 100 mL convertido para litros\n",
    "c_acido = 0.1\n",
    "c_NaOH = 0.1\n",
    "\n",
    "\n",
    "for volume in np.arange(10, 100, 10):\n",
    "    for pka in [3, 5, 7, 9, 11]:        \n",
    "        ka = 10**(pka*(-1))\n",
    "        v_base = volume / 1000\n",
    "\n",
    "        # Equacao 2\n",
    "        c_a = (c_NaOH*v_base) / (v_base+v_acido)\n",
    "        c_ha =  ((c_acido*v_acido)-(c_NaOH*v_base)) / (v_base+v_acido)\n",
    "        eq_2 = -np.log10(ka * (c_ha/c_a))\n",
    "         \n",
    "\n",
    "        print(f\"volume: {volume}, pka: {pka}, eq_2: {ph_eq_2:8.3E}, eq_3: {0.00:8.3E}\")\n",
    "        \n",
    "        \n",
    "    \n"
   ]
  },
  {
   "cell_type": "code",
   "execution_count": null,
   "id": "28ba75f2-bcdc-4ae4-b982-50180c33ddf0",
   "metadata": {},
   "outputs": [],
   "source": []
  }
 ],
 "metadata": {
  "kernelspec": {
   "display_name": "Python 3 (ipykernel)",
   "language": "python",
   "name": "python3"
  },
  "language_info": {
   "codemirror_mode": {
    "name": "ipython",
    "version": 3
   },
   "file_extension": ".py",
   "mimetype": "text/x-python",
   "name": "python",
   "nbconvert_exporter": "python",
   "pygments_lexer": "ipython3",
   "version": "3.11.5"
  }
 },
 "nbformat": 4,
 "nbformat_minor": 5
}
