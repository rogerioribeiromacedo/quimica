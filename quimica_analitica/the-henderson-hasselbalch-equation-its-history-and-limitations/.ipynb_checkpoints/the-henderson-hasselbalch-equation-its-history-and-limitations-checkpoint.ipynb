{
 "cells": [
  {
   "cell_type": "markdown",
   "id": "ee781897-cd35-43ae-a86e-20d960c3ff96",
   "metadata": {},
   "source": [
    "<h1 style=\"color: #5e9ca0;\">The Henderson–Hasselbalch Equation: <span style=\"color: #2e6c80;\">Its History and Limitations</span></h1>\n",
    "\n",
    "Construção dos dados vistos nas tabelas do artigo. E de acordo com o arquivo, a equação 3 produz valores exatos de pH, enquanto que a equação 2 produziria valores aproximados.\n",
    "\n",
    "Ainda de acordo com o artigo, a equação 1 e 2 é a lei de ação das massas aplicadas na ionização da água e na dissociação do ácido.\n",
    " \n",
    "Equações usadas:\n",
    "\n",
    "1. $[H^{+}][OH^{-}] = 10^{-14}$\n",
    "\n",
    "2. $[H^{+}] = Ka \\cdot \\frac{[HA]}{[A^{-}]}$\n",
    "\n",
    "3. $[HA] + [A^{-}] = \\frac{(n_{A} + n_{B})}{V} \\rightarrow [A^{-}] = \\frac{(n_{A} + n_{B})}{V} - {HA}$\n",
    "\n",
    "4. $[H^{+}] + \\frac{n_{B}}{V} + [A^{-} + [OH^{-}]]$"
   ]
  },
  {
   "cell_type": "markdown",
   "id": "209a7df7-3ca9-4163-a644-f0eefeac1b56",
   "metadata": {},
   "source": [
    "<h1 style=\"color: #5e9ca0;\">Importando bibliotecas</h1>"
   ]
  },
  {
   "cell_type": "code",
   "execution_count": 2,
   "id": "7488b97a-c181-485a-aaf6-69fa3710638b",
   "metadata": {},
   "outputs": [],
   "source": [
    "import numpy as np\n",
    "import matplotlib.pyplot as plt\n",
    "import pandas as pd"
   ]
  },
  {
   "cell_type": "markdown",
   "id": "4e39c2ae-ef25-4b8c-833d-64e961012589",
   "metadata": {},
   "source": [
    "<h2 style=\"color: #5e9ca0;\"><b>Tabela 1:</b> Titulação de 100 mL de 0,10 M de ácido fraco com 0,10 M de NaOH</h2>"
   ]
  },
  {
   "cell_type": "code",
   "execution_count": 61,
   "id": "aaa77440-644a-4ac0-9796-4a28b72ddf82",
   "metadata": {},
   "outputs": [
    {
     "name": "stdout",
     "output_type": "stream",
     "text": [
      "7.1141e-03\n"
     ]
    }
   ],
   "source": [
    "# Definição dos parâmetros\n",
    "Ka = 1.000e-03  # Constante de dissociação ácida (exemplo)\n",
    "MA = (0.1*0.1)/0.05     # Concentração de ácido (exemplo)\n",
    "MB = (0.1*0.01)/0.05     # Concentração de base (exemplo)\n",
    "OH = 1.0e-7  # Concentração de íons OH- (exemplo)\n",
    "\n",
    "# Definindo a função iterativa\n",
    "def calculate_H_plus(Ka, MA, MB, OH, tolerance=1e-6, max_iterations=1000):\n",
    "    # Estimativa inicial\n",
    "    H_plus = 1.0e-7\n",
    "    \n",
    "    for i in range(max_iterations):\n",
    "        # Calcular nova estimativa\n",
    "        OH = (10**-14) / H_plus\n",
    "        H_plus_new = Ka * ((MA - H_plus + OH) / (MB + H_plus - OH))\n",
    "        \n",
    "        # Verificar convergência\n",
    "        if abs(H_plus_new - H_plus) < tolerance:\n",
    "            return H_plus_new\n",
    "        \n",
    "        # Atualizar H_plus\n",
    "        H_plus = H_plus_new\n",
    "    \n",
    "    # Se não convergir dentro do número máximo de iterações\n",
    "    raise Exception(\"O método iterativo não convergiu.\")\n",
    "\n",
    "# Chamando a função\n",
    "H_plus_solution = calculate_H_plus(Ka, MA, MB, OH)\n",
    "print(f\"{H_plus_solution:8.4e}\")"
   ]
  },
  {
   "cell_type": "code",
   "execution_count": null,
   "id": "d306f9b4-71c9-405d-926f-0286c7a2d095",
   "metadata": {},
   "outputs": [],
   "source": [
    "import sympy as sp\n",
    "\n",
    "# Define symbolic variables\n",
    "Ka = sp.symbols(\"Ka\")  # Acid dissociation constant\n",
    "MA = sp.symbols(\"MA\")  # Total concentration of acid\n",
    "MB = sp.symbols(\"MB\")  # Total concentration of base\n",
    "OH = sp.symbols(\"OH\")  # Hydroxide ion concentration\n",
    "\n",
    "# Define the equation\n",
    "equation = sp.Eq(sp.Symbol(\"H\"), Ka * (MA - sp.Symbol(\"H\") + OH) / (MB + sp.Symbol(\"H\") - OH))\n",
    "\n",
    "def calculate_h(Ka, MA, MB, OH, initial_guess):\n",
    "  \"\"\"\n",
    "  This function iteratively calculates the inner hydrogen ion concentration ([H+]) using the Newton-Raphson method.\n",
    "\n",
    "  Args:\n",
    "      Ka: Acid dissociation constant\n",
    "      MA: Total concentration of acid\n",
    "      MB: Total concentration of base\n",
    "      OH: Hydroxide ion concentration\n",
    "      initial_guess: An initial guess for [H+]\n",
    "\n",
    "  Returns:\n",
    "      The inner hydrogen ion concentration ([H+])\n",
    "  \"\"\"\n",
    "  h = sp.Symbol(\"H\")\n",
    "  f = equation.lhs - equation.rhs\n",
    "\n",
    "  for i in range(100):\n",
    "    h_new = h - f.subs(h, h) / f.diff(h)\n",
    "    if abs(h_new - h) < 1e-5:\n",
    "      return h_new\n",
    "    h = h_new\n",
    "\n",
    "  # Raise an error if convergence is not achieved within the maximum iterations\n",
    "  raise RuntimeError(\"Failed to converge within maximum iterations\")\n",
    "\n",
    "# Example usage (replace with your actual values)\n",
    "Ka_value = 1.0e-5\n",
    "MA_value = 1.0e-3\n",
    "MB_value = 5.0e-4\n",
    "OH_value = 1.0e-7\n",
    "initial_guess = 1.0e-6\n",
    "\n",
    "h_solution = calculate_h(Ka_value, MA_value, MB_value, OH_value, initial_guess)\n",
    "print(\"Inner hydrogen ion concentration ([H+]):\", sp.N(h_solution))"
   ]
  },
  {
   "cell_type": "code",
   "execution_count": 63,
   "id": "6c428d07-ec55-401d-bbf6-59512d290f1b",
   "metadata": {},
   "outputs": [
    {
     "name": "stdout",
     "output_type": "stream",
     "text": [
      "volume: 10\n",
      " - pka: 3, Ka: 1.000e-03\n",
      "   - H (eq 2): 9.000E-03 (2.046)\n",
      "   - H (eq 3): 7.114E-03 (2.148)\n"
     ]
    }
   ],
   "source": [
    "v_acido = 0.1  # 100 mL convertido para litros\n",
    "c_acido = 0.1\n",
    "c_NaOH = 0.1\n",
    "\n",
    "\n",
    "for volume in np.arange(10, 11, 10): # valores em mL\n",
    "    for pka in [3]: # , 5, 7, 9, 11]:        \n",
    "        ka = 10**(-pka)\n",
    "        v_base = volume / 1000  # Conversão para litros\n",
    "\n",
    "        # Equacao 2\n",
    "        c_a = (c_NaOH*v_base) / (v_base+v_acido)\n",
    "        c_ha =  ((c_acido*v_acido)-(c_NaOH*v_base)) / (v_base+v_acido)\n",
    "        c_h2 = ka * (c_ha/c_a)\n",
    "        ph_eq_2 = -np.log10(c_h)\n",
    "\n",
    "        # Equação 3\n",
    "        MA = (0.1*0.1)/0.05 \n",
    "        MB = (0.1*0.01)/0.05\n",
    "        H_plus = 7.1141e-03\n",
    "        OH = (10e-14)/H_plus\n",
    "        \n",
    "        H_plus_new = Ka * ((MA - H_plus + OH) / (MB + H_plus - OH))\n",
    "        ph_eq_3 = -np.log10(H_plus_new)\n",
    "        \n",
    "        \n",
    "        print(f\"volume: {volume}\\n - pka: {pka}, Ka: {ka:2.3e}\\n   - H (eq 2): {c_h2:8.3E} ({ph_eq_2:<2.3f})\\n   - H (eq 3): {H_plus_new:8.3E} ({ph_eq_3:<2.3f})\")\n",
    "        \n",
    "        \n",
    "    \n"
   ]
  },
  {
   "cell_type": "code",
   "execution_count": null,
   "id": "28ba75f2-bcdc-4ae4-b982-50180c33ddf0",
   "metadata": {},
   "outputs": [],
   "source": []
  }
 ],
 "metadata": {
  "kernelspec": {
   "display_name": "Python 3 (ipykernel)",
   "language": "python",
   "name": "python3"
  },
  "language_info": {
   "codemirror_mode": {
    "name": "ipython",
    "version": 3
   },
   "file_extension": ".py",
   "mimetype": "text/x-python",
   "name": "python",
   "nbconvert_exporter": "python",
   "pygments_lexer": "ipython3",
   "version": "3.12.2"
  }
 },
 "nbformat": 4,
 "nbformat_minor": 5
}
